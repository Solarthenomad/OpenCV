{
 "cells": [
  {
   "cell_type": "markdown",
   "id": "e8d95792",
   "metadata": {},
   "source": [
    "# 16. 이미지 변환(열림 & 닫힘)"
   ]
  },
  {
   "cell_type": "markdown",
   "id": "18e9e245",
   "metadata": {},
   "source": [
    "## 열림(Opening) : 침식 후 팽창. 깎아서 노이즈 제거 후 살 찌움\n",
    "dilate(erode(image))"
   ]
  },
  {
   "cell_type": "code",
   "execution_count": null,
   "id": "e69f3a88",
   "metadata": {},
   "outputs": [],
   "source": [
    "import cv2\n",
    "import numpy as np\n",
    "kernel = np.ones((3,3), dtype=uint8)\n",
    "\n",
    "img = cv2.imread('img.jpg', cv2.IMREAD_GRAYSCALE)\n",
    "\n",
    "erode = cv2.erode(img, kernel, iterations= 3)\n",
    "dilate = cv2.dilate(erode, kernel, iterations= 3)\n",
    "\n",
    "cv2.imshow('img', img)\n",
    "cv2.imshow('erode', erode)\n",
    "cv2.imshow('dilate', dilate)\n",
    "cv2.waitKey(0)\n",
    "cv2.destroyAllWIndows()"
   ]
  },
  {
   "cell_type": "markdown",
   "id": "f08362fb",
   "metadata": {},
   "source": [
    "## 닫힘(Closing) : 팽창 후 침식, 구멍을 메운 후 다시 깎음\n",
    "> erode(dilate(image))"
   ]
  },
  {
   "cell_type": "code",
   "execution_count": null,
   "id": "6787aada",
   "metadata": {},
   "outputs": [],
   "source": [
    "import cv2\n",
    "import numpy as np\n",
    "kernel = np.ones((3,3), dtype=uint8)\n",
    "\n",
    "img = cv2.imread('dilate.png', cv2.IMREAD_GRAYSCALE)\n",
    "\n",
    "erode = cv2.erode(img, kernel, iterations= 3)\n",
    "dilate = cv2.dilate(erode, kernel, iterations= 3)\n",
    "\n",
    "cv2.imshow('img', img)\n",
    "cv2.imshow('erode', erode)\n",
    "cv2.imshow('dilate', dilate)\n",
    "cv2.waitKey(0)\n",
    "cv2.destroyAllWIndows()"
   ]
  },
  {
   "cell_type": "code",
   "execution_count": null,
   "id": "f89040c1",
   "metadata": {},
   "outputs": [],
   "source": []
  },
  {
   "cell_type": "code",
   "execution_count": null,
   "id": "ea460bdf",
   "metadata": {},
   "outputs": [],
   "source": []
  },
  {
   "cell_type": "code",
   "execution_count": null,
   "id": "9b721fdd",
   "metadata": {},
   "outputs": [],
   "source": []
  },
  {
   "cell_type": "code",
   "execution_count": null,
   "id": "ff6bf223",
   "metadata": {},
   "outputs": [],
   "source": []
  },
  {
   "cell_type": "code",
   "execution_count": null,
   "id": "181472d8",
   "metadata": {},
   "outputs": [],
   "source": []
  }
 ],
 "metadata": {
  "kernelspec": {
   "display_name": "Python 3 (ipykernel)",
   "language": "python",
   "name": "python3"
  },
  "language_info": {
   "codemirror_mode": {
    "name": "ipython",
    "version": 3
   },
   "file_extension": ".py",
   "mimetype": "text/x-python",
   "name": "python",
   "nbconvert_exporter": "python",
   "pygments_lexer": "ipython3",
   "version": "3.9.13"
  }
 },
 "nbformat": 4,
 "nbformat_minor": 5
}
