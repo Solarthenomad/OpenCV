{
 "cells": [
  {
   "cell_type": "markdown",
   "id": "1be0d7f5",
   "metadata": {},
   "source": [
    "# 7. 이미지 자르기"
   ]
  },
  {
   "cell_type": "markdown",
   "id": "ffad4eb6",
   "metadata": {},
   "source": [
    "영역을 잘라서 새로운 윈도우에 표시하기 "
   ]
  },
  {
   "cell_type": "code",
   "execution_count": 1,
   "id": "cd4c741b",
   "metadata": {},
   "outputs": [
    {
     "data": {
      "text/plain": [
       "(391, 640, 3)"
      ]
     },
     "execution_count": 1,
     "metadata": {},
     "output_type": "execute_result"
    }
   ],
   "source": [
    "import cv2\n",
    "img = cv2.imread('img.jpg')\n",
    "img.shape\n",
    "\n",
    "#crap = img[세로 범위, 가로범위] #crap = 자른 이미지를 저장하는 변수\n",
    "crap = img[100:200, 300:400]\n",
    "cv2.imshow('img', img)\n",
    "cv2.imshow('crop', crap)\n",
    "cv2.waitKey(0)\n",
    "cv2.destroyAllWIndows()\n",
    "\n"
   ]
  },
  {
   "cell_type": "markdown",
   "id": "40c7e2a3",
   "metadata": {},
   "source": [
    "영역을 잘라서 기존 윈도우에 표시하기 "
   ]
  },
  {
   "cell_type": "code",
   "execution_count": null,
   "id": "eed23f33",
   "metadata": {},
   "outputs": [],
   "source": [
    "import cv2\n",
    "img = cv2.imread('img.jpg')\n",
    "img.shape\n",
    "\n",
    "#crap = img[세로 범위, 가로범위] #crap = 자른 이미지를 저장하는 변수\n",
    "crap = img[100:200, 300:400]\n",
    "\n",
    "#crap을 img 안에 넣어야 함 \n",
    "img[100:200, 400:600] = crap\n",
    "cv2.imshow('img', img)\n",
    "cv2.imshow('crop', crap)\n",
    "cv2.waitKey(0)\n",
    "cv2.destroyAllWIndows()"
   ]
  },
  {
   "cell_type": "code",
   "execution_count": null,
   "id": "1752253b",
   "metadata": {},
   "outputs": [],
   "source": []
  },
  {
   "cell_type": "code",
   "execution_count": null,
   "id": "103b0ff7",
   "metadata": {},
   "outputs": [],
   "source": []
  },
  {
   "cell_type": "code",
   "execution_count": null,
   "id": "661dba08",
   "metadata": {},
   "outputs": [],
   "source": []
  },
  {
   "cell_type": "code",
   "execution_count": null,
   "id": "0206af3b",
   "metadata": {},
   "outputs": [],
   "source": []
  },
  {
   "cell_type": "code",
   "execution_count": null,
   "id": "7c77b00a",
   "metadata": {},
   "outputs": [],
   "source": []
  },
  {
   "cell_type": "code",
   "execution_count": null,
   "id": "2409993e",
   "metadata": {},
   "outputs": [],
   "source": []
  },
  {
   "cell_type": "code",
   "execution_count": null,
   "id": "2602443a",
   "metadata": {},
   "outputs": [],
   "source": []
  },
  {
   "cell_type": "code",
   "execution_count": null,
   "id": "94d5244e",
   "metadata": {},
   "outputs": [],
   "source": []
  }
 ],
 "metadata": {
  "kernelspec": {
   "display_name": "Python 3 (ipykernel)",
   "language": "python",
   "name": "python3"
  },
  "language_info": {
   "codemirror_mode": {
    "name": "ipython",
    "version": 3
   },
   "file_extension": ".py",
   "mimetype": "text/x-python",
   "name": "python",
   "nbconvert_exporter": "python",
   "pygments_lexer": "ipython3",
   "version": "3.9.13"
  }
 },
 "nbformat": 4,
 "nbformat_minor": 5
}
