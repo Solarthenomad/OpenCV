{
 "cells": [
  {
   "cell_type": "markdown",
   "id": "ed847c4a",
   "metadata": {},
   "source": [
    "# 12. 이미지 변형(원근)"
   ]
  },
  {
   "cell_type": "code",
   "execution_count": null,
   "id": "fffeb2b0",
   "metadata": {},
   "outputs": [],
   "source": [
    "import cv2\n",
    "import numpy as np\n",
    "\n",
    "img = cv2.imread('img.jpg')\n",
    "\n",
    "width, height = 640, 470 #가로 크기 640, 세로 크기 240으로 모든 결과 출력 \n",
    "\n",
    "src = np.array([[511, 352],[1008,345 ],[1122, 584], [455, 594]], dtype = np.float32) #input 4개 저장 \n",
    "dst = np.array([[0,0], [width, 0], [width, height], [0, height]], dtype=np.float32) #Output 4개 지정 \n",
    "#좌상, 우상, 우하, 좌하(시계 방향으로 4개 지점 정의하기)\n",
    "\n",
    "\n",
    "matrix = cv2.getPerspectiveTransform(src, dst) #Matrix 얻어옴\n",
    "result = cv2.warpPerspective(img, matrix, (widht, height)) #matrix 대로 변환을 함 \n",
    "\n",
    "cv2.imshow('img', img)\n",
    "cv2.imshow('result', result)\n",
    "cv2.waitKey(0)\n",
    "cv2.destroyAllWindows()"
   ]
  },
  {
   "cell_type": "markdown",
   "id": "19f9ff24",
   "metadata": {},
   "source": [
    "## 회전된 이미지 올바로 세우기 "
   ]
  },
  {
   "cell_type": "code",
   "execution_count": null,
   "id": "d0b64694",
   "metadata": {},
   "outputs": [],
   "source": [
    "import cv2\n",
    "import numpy as np\n",
    "\n",
    "img = cv2.imread('img.jpg')\n",
    "\n",
    "width, height = 530, 710 #가로 크기 640, 세로 크기 240으로 모든 결과 출력 \n",
    "\n",
    "src = np.array([[511, 352],[1008,345 ],[1122, 584], [455, 594]], dtype = np.float32) #input 4개 저장 \n",
    "dst = np.array([[0,0], [width, 0], [width, height], [0, height]], dtype=np.float32) #Output 4개 지정 \n",
    "#좌상, 우상, 우하, 좌하(시계 방향으로 4개 지점 정의하기)\n",
    "\n",
    "\n",
    "matrix = cv2.getPerspectiveTransform(src, dst) #Matrix 얻어옴\n",
    "result = cv2.warpPerspective(img, matrix, (widht, height)) #matrix 대로 변환을 함 \n",
    "\n",
    "cv2.imshow('img', img)\n",
    "cv2.imshow('result', result)\n",
    "cv2.waitKey(0)\n",
    "cv2.destroyAllWindows()"
   ]
  },
  {
   "cell_type": "markdown",
   "id": "3cc6e893",
   "metadata": {},
   "source": [
    "## 미니 프로젝트 : 반자동 문서 스캐너 "
   ]
  },
  {
   "cell_type": "markdown",
   "id": "5f8afb52",
   "metadata": {},
   "source": [
    "### 마우스 이벤트 등록"
   ]
  },
  {
   "cell_type": "code",
   "execution_count": null,
   "id": "40932e55",
   "metadata": {},
   "outputs": [],
   "source": [
    "import cv2\n",
    "import numpy as np\n",
    "\n",
    "def mouse_handler(event, x, y,flags, param ):\n",
    "    if event == cv2.EVENT_LBUTTONDOWN : #마우스 왼쪽 버튼 Down \n",
    "        print('왼쪽 버튼 down')\n",
    "        print(x,y) \n",
    "    elif event == cv2.EVENT_LBUTTONUP: #마우스 왼쪽 버튼 Up\n",
    "        print('왼쪽 버튼 Up')\n",
    "        print(x,y)\n",
    "    elif event == cv2.EVENT_LBUTTONDBCLK: #마우스 왼쪽 버튼 더블 클릭 \n",
    "        print('왼쪽 버튼 Double CLICK')\n",
    "    elif event == cv2.Event_MOUSEMOVE : #마우스 이동\n",
    "        print('마우스 이동')\n",
    "    elif event == cv2.EVENT_RBUTTONDOWN :  #오른쪽 버튼 Down\n",
    "        print('오른쪽 버튼 Down')\n",
    "        \n",
    "        \n",
    "\n",
    "img = cv2.imread('img.jpg')\n",
    "cv2.namedWindow('img') #img라는 이름의 윈도우를 먼저 만들어두느 것. 여기에 마우스 이벤트를처리하기 위한 핸들러 적용 \n",
    "cv2.setMouseCallback('img', mouse_handler)\n",
    "cv2.imshow('img', img)\n",
    "cv2.waitKey(0)\n",
    "cv2.destroyAllWindows()\n",
    "\n"
   ]
  },
  {
   "cell_type": "markdown",
   "id": "8b425bbf",
   "metadata": {},
   "source": [
    "### 프로젝트 "
   ]
  },
  {
   "cell_type": "code",
   "execution_count": null,
   "id": "026f708f",
   "metadata": {},
   "outputs": [],
   "source": [
    "import cv2\n",
    "import numpy as np\n",
    "\n",
    "point_list = []\n",
    "src_img = cv2.imread('img.jpg')\n",
    "\n",
    "COLOR = (255,0, 255) #핑크\n",
    "\n",
    "def mouse_handler(event, x, y,flags, param ):\n",
    "    if event == cv2.EVENT_LBUTTONDOWN :\n",
    "        point_list.ascend((x,y))\n",
    "    \n",
    "    for point in point_list :\n",
    "        cv2.circle(src_img , point, 5, COLOR, cv2.FILLED)\n",
    "        \n",
    "    if len(point_list) == 4:\n",
    "        show_result() #결과 출력\n",
    "    \n",
    "    \n",
    "    cv2.imshow('img', src_img)\n",
    "    \n",
    "def show_result():\n",
    "    width, height = 530, 740\n",
    "    #point.list안에 있는 친구들을 가지고 src 경로를 설정해준다. \n",
    "    src= np.float32(point_list)\n",
    "    \n",
    "\n",
    "\n",
    "cv2.namedWindow('img') #img라는 이름의 윈도우를 먼저 만들어두느 것. 여기에 마우스 이벤트를처리하기 위한 핸들러 적용 \n",
    "cv2.setMouseCallback('img', mouse_handler)\n",
    "cv2.imshow('img', img)\n",
    "cv2.waitKey(0)\n",
    "cv2.destroyAllWindows()\n"
   ]
  },
  {
   "cell_type": "code",
   "execution_count": null,
   "id": "602d3bae",
   "metadata": {},
   "outputs": [],
   "source": []
  },
  {
   "cell_type": "code",
   "execution_count": null,
   "id": "1c2a4777",
   "metadata": {},
   "outputs": [],
   "source": []
  },
  {
   "cell_type": "code",
   "execution_count": null,
   "id": "345bc5e2",
   "metadata": {},
   "outputs": [],
   "source": []
  },
  {
   "cell_type": "code",
   "execution_count": null,
   "id": "0eb9a893",
   "metadata": {},
   "outputs": [],
   "source": []
  }
 ],
 "metadata": {
  "kernelspec": {
   "display_name": "Python 3 (ipykernel)",
   "language": "python",
   "name": "python3"
  },
  "language_info": {
   "codemirror_mode": {
    "name": "ipython",
    "version": 3
   },
   "file_extension": ".py",
   "mimetype": "text/x-python",
   "name": "python",
   "nbconvert_exporter": "python",
   "pygments_lexer": "ipython3",
   "version": "3.9.13"
  }
 },
 "nbformat": 4,
 "nbformat_minor": 5
}
