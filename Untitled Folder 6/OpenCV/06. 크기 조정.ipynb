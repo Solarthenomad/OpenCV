{
 "cells": [
  {
   "cell_type": "markdown",
   "id": "2aadec54",
   "metadata": {},
   "source": [
    "# 6. 크기 조정\n",
    "\n"
   ]
  },
  {
   "cell_type": "markdown",
   "id": "c67f6b4e",
   "metadata": {},
   "source": [
    "### 이미지"
   ]
  },
  {
   "cell_type": "markdown",
   "id": "3df3059e",
   "metadata": {},
   "source": [
    "고정 크기도 설정 "
   ]
  },
  {
   "cell_type": "code",
   "execution_count": null,
   "id": "862003e6",
   "metadata": {},
   "outputs": [],
   "source": [
    "import cv2\n",
    "img = cv2.imread('img.jpg')\n",
    "det = cv2.resize(img, (400, 500) ) #width, height 고정 크기\n",
    "\n",
    "cv2.imshow('img', img)\n",
    "cv2.imshow('result', det)\n",
    "cv2.waitKey(0)\n",
    "cv2.destroyAllWindows()"
   ]
  },
  {
   "cell_type": "markdown",
   "id": "7771e6c6",
   "metadata": {},
   "source": [
    "비율로 설정"
   ]
  },
  {
   "cell_type": "code",
   "execution_count": null,
   "id": "b1a68376",
   "metadata": {},
   "outputs": [],
   "source": [
    "import cv2\n",
    "img = cv2.imread('img.jpg')\n",
    "det = cv2.resize(img, None, fx=0.5, fy=0.5, interpolation=cv2.INTER_AREA) #x, y 비율 정의\n",
    "#x길이의 0.5배만큼 축소, y길이의 0.5배만큼 축소하기\n",
    "\n",
    "cv2.imshow('img', img)\n",
    "cv2.imshow('result', det)\n",
    "cv2.waitKey(0)\n",
    "cv2.destroyAllWindows()"
   ]
  },
  {
   "cell_type": "markdown",
   "id": "9c6d1109",
   "metadata": {},
   "source": [
    "### 보간법\n",
    "\n",
    "1. cv2.INTER_AREA : 크기 줄일 때 사용함\n",
    "2. cv2.INTER_CUBIC : 크기 늘릴 때 사용함(속도 느림, 퀄리티 좋음)\n",
    "3. cv2.INTER_LINEAR : 크기 늘릴 때 사용(기본값)\n"
   ]
  },
  {
   "cell_type": "markdown",
   "id": "2b16422e",
   "metadata": {},
   "source": [
    "보간법 적용하여 축소 "
   ]
  },
  {
   "cell_type": "code",
   "execution_count": null,
   "id": "b3bfed0a",
   "metadata": {},
   "outputs": [],
   "source": [
    "import cv2\n",
    "img = cv2.imread('img.jpg')\n",
    "det = cv2.resize(img, None, fx=0.5, fy=0.5, interpolation=cv2.INTER_AREA) #x, y 비율 정의\n",
    "#x길이의 0.5배만큼 축소, y길이의 0.5배만큼 축소하기\n",
    "\n",
    "cv2.imshow('img', img)\n",
    "cv2.imshow('result', det)\n",
    "cv2.waitKey(0)\n",
    "cv2.destroyAllWindows()"
   ]
  },
  {
   "cell_type": "markdown",
   "id": "d48e2712",
   "metadata": {},
   "source": [
    "보간법 적용하여 확대"
   ]
  },
  {
   "cell_type": "code",
   "execution_count": null,
   "id": "76c973d7",
   "metadata": {},
   "outputs": [],
   "source": [
    "import cv2\n",
    "img = cv2.imread('img.jpg')\n",
    "det = cv2.resize(img, None, fx=1.5, fy=1.5, interpolation=cv2.INTER_CUBIC) #x, y 비율 정의\n",
    "#x길이의 0.5배만큼 축소, y길이의 0.5배만큼 축소하기\n",
    "\n",
    "cv2.imshow('img', img)\n",
    "cv2.imshow('result', det)\n",
    "cv2.waitKey(0)\n",
    "cv2.destroyAllWindows()"
   ]
  },
  {
   "cell_type": "markdown",
   "id": "1522d835",
   "metadata": {},
   "source": [
    "### 동영상"
   ]
  },
  {
   "cell_type": "markdown",
   "id": "873067f2",
   "metadata": {},
   "source": [
    "고정 크기로 설정"
   ]
  },
  {
   "cell_type": "code",
   "execution_count": null,
   "id": "8e015e58",
   "metadata": {},
   "outputs": [],
   "source": [
    "import cv2\n",
    "cap = cv2.VideoCapture('video.mp4')\n",
    "\n",
    "while cap.isOpened():\n",
    "    ret.frame = cap.read()\n",
    "    if not ret:\n",
    "        break\n",
    "        \n",
    "    frame_resized = cv2.resize(frame, (400,500))\n",
    "    \n",
    "        \n",
    "    cv2.imshow('video', frame)\n",
    "    if cv2.waitKey(1) == ord('q'):\n",
    "        break\n",
    "        \n",
    "cap.release()\n",
    "cv2.destroyAllWindows()"
   ]
  },
  {
   "cell_type": "markdown",
   "id": "328872f7",
   "metadata": {},
   "source": [
    "비율로 설정"
   ]
  },
  {
   "cell_type": "code",
   "execution_count": null,
   "id": "4ebfcaaf",
   "metadata": {},
   "outputs": [],
   "source": [
    "import cv2\n",
    "cap = cv2.VideoCapture('video.mp4')\n",
    "\n",
    "while cap.isOpened():\n",
    "    ret.frame = cap.read()\n",
    "    if not ret:\n",
    "        break\n",
    "        \n",
    "    frame_resized = cv2.resize(frame,None, fx= 1.5 , fy= 1.5, interpolation = cv2.INTER_CUBIC)\n",
    "        \n",
    "    cv2.imshow('video', frame)\n",
    "    if cv2.waitKey(1) == ord('q'):\n",
    "        break\n",
    "        \n",
    "cap.release()\n",
    "cv2.destroyAllWindows()"
   ]
  },
  {
   "cell_type": "code",
   "execution_count": null,
   "id": "17672742",
   "metadata": {},
   "outputs": [],
   "source": []
  },
  {
   "cell_type": "code",
   "execution_count": null,
   "id": "3aa90f9e",
   "metadata": {},
   "outputs": [],
   "source": []
  }
 ],
 "metadata": {
  "kernelspec": {
   "display_name": "Python 3 (ipykernel)",
   "language": "python",
   "name": "python3"
  },
  "language_info": {
   "codemirror_mode": {
    "name": "ipython",
    "version": 3
   },
   "file_extension": ".py",
   "mimetype": "text/x-python",
   "name": "python",
   "nbconvert_exporter": "python",
   "pygments_lexer": "ipython3",
   "version": "3.9.13"
  }
 },
 "nbformat": 4,
 "nbformat_minor": 5
}
