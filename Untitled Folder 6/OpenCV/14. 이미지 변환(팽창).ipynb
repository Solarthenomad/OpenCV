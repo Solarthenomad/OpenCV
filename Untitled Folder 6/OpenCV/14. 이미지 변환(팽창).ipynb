{
 "cells": [
  {
   "cell_type": "markdown",
   "id": "9a3fb617",
   "metadata": {},
   "source": [
    "# 14. 이미지 변환(팽창)"
   ]
  },
  {
   "cell_type": "markdown",
   "id": "e44f16db",
   "metadata": {},
   "source": [
    "## 이미지를 확장하여 작은 구멍을 채운다. \n",
    "흰색 영역의 외곽 픽셀 주변에 흰색을 채운다. "
   ]
  },
  {
   "cell_type": "code",
   "execution_count": 2,
   "id": "65d407c2",
   "metadata": {},
   "outputs": [],
   "source": [
    "import cv2\n",
    "import numpy as np\n",
    "\n",
    "kernel = np.ones((3,3), dtype= np.uint8)\n",
    "#kernel\n",
    "\n",
    "\n",
    "img = cv2.imread('img.jpg', cv2.IMREAD_GRAYSCALE)\n",
    "dilate1 = cv2.dilate(img, kernel, iterations=1) #반복횟수 = iterations\n",
    "dilate2 = cv2.dilate(img, kernel, iterations=2)\n",
    "dilate3 = cv2.dilate(img, kernel, iterations=3)\n",
    "\n",
    "\n",
    "cv2.imshow('gray', img)\n",
    "cv2.imshow('dilate1', dilate1)\n",
    "cv2.imshow('dilate2', dilate2)\n",
    "cv2.imshow('dilate3', dilate3)\n",
    "cv2.waitKey(0)\n",
    "cv2.destroyAllWindows()"
   ]
  },
  {
   "cell_type": "code",
   "execution_count": null,
   "id": "e7a27fca",
   "metadata": {},
   "outputs": [],
   "source": []
  }
 ],
 "metadata": {
  "kernelspec": {
   "display_name": "Python 3 (ipykernel)",
   "language": "python",
   "name": "python3"
  },
  "language_info": {
   "codemirror_mode": {
    "name": "ipython",
    "version": 3
   },
   "file_extension": ".py",
   "mimetype": "text/x-python",
   "name": "python",
   "nbconvert_exporter": "python",
   "pygments_lexer": "ipython3",
   "version": "3.9.13"
  }
 },
 "nbformat": 4,
 "nbformat_minor": 5
}
