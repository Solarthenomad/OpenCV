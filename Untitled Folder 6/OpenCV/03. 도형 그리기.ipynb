{
 "cells": [
  {
   "cell_type": "markdown",
   "id": "b4a50077",
   "metadata": {},
   "source": [
    "# 03. 도형 그리기"
   ]
  },
  {
   "cell_type": "markdown",
   "id": "6de44980",
   "metadata": {},
   "source": [
    "## 빈 스케치북 만들기"
   ]
  },
  {
   "cell_type": "code",
   "execution_count": 4,
   "id": "6dd56363",
   "metadata": {},
   "outputs": [
    {
     "name": "stdout",
     "output_type": "stream",
     "text": [
      "[[[255 255 255]\n",
      "  [255 255 255]\n",
      "  [255 255 255]\n",
      "  ...\n",
      "  [255 255 255]\n",
      "  [255 255 255]\n",
      "  [255 255 255]]\n",
      "\n",
      " [[255 255 255]\n",
      "  [255 255 255]\n",
      "  [255 255 255]\n",
      "  ...\n",
      "  [255 255 255]\n",
      "  [255 255 255]\n",
      "  [255 255 255]]\n",
      "\n",
      " [[255 255 255]\n",
      "  [255 255 255]\n",
      "  [255 255 255]\n",
      "  ...\n",
      "  [255 255 255]\n",
      "  [255 255 255]\n",
      "  [255 255 255]]\n",
      "\n",
      " ...\n",
      "\n",
      " [[255 255 255]\n",
      "  [255 255 255]\n",
      "  [255 255 255]\n",
      "  ...\n",
      "  [255 255 255]\n",
      "  [255 255 255]\n",
      "  [255 255 255]]\n",
      "\n",
      " [[255 255 255]\n",
      "  [255 255 255]\n",
      "  [255 255 255]\n",
      "  ...\n",
      "  [255 255 255]\n",
      "  [255 255 255]\n",
      "  [255 255 255]]\n",
      "\n",
      " [[255 255 255]\n",
      "  [255 255 255]\n",
      "  [255 255 255]\n",
      "  ...\n",
      "  [255 255 255]\n",
      "  [255 255 255]\n",
      "  [255 255 255]]]\n"
     ]
    }
   ],
   "source": [
    "import cv2\n",
    "import numpy as np\n",
    "import matplotlib as plt\n",
    "\n",
    "# 세로 480 X 가로 640 만큼 크기의 3channel(RGB)에 해당하는 스케치북을 만들기\n",
    "img = np.zeros((480, 640, 3), dtype = np.uint8) #공간을 만들기 \n",
    "img[:] = (255,255,255) #전체 공간의 GRB를 255,255,255로 채움(하얀색으로 채우기)\n",
    "print(img)\n",
    "cv2.imshow('img', img)\n",
    "cv2.waitKey(0)\n",
    "cv2.destroyAllWindows()"
   ]
  },
  {
   "cell_type": "markdown",
   "id": "2d36f03d",
   "metadata": {},
   "source": [
    "## 일부 영역 색칠하기"
   ]
  },
  {
   "cell_type": "code",
   "execution_count": null,
   "id": "85194731",
   "metadata": {},
   "outputs": [],
   "source": [
    "import cv2\n",
    "import numpy as np\n",
    "import matplotlib as plt\n",
    "\n",
    "\n",
    "img = np.zeros((480, 640, 3), dtype = np.uint8) #공간을 만들기 \n",
    "img[100:200, 200:300] = (255, 255, 255) #세로 길이로 100~200까지 RGB 255,255,255만큼 채워주고 가로길이로 200~300까지도 역시 동일하게 적용됨 \n",
    "#[세로 영역, 가로 영역]\n",
    "\n",
    "cv2.imshow('img', img)\n",
    "cv2.waitKey(0)\n",
    "cv2.destroyAllWindows()"
   ]
  },
  {
   "cell_type": "markdown",
   "id": "32cdd010",
   "metadata": {},
   "source": [
    "## 직선\n",
    "직선의 종류(line type)\n",
    "\n",
    "1. cv2.LINE_4 : 상하좌우 4 방향으로 연결된 선 \n",
    "2. cv2.LINE_8 : 대각선을 포함한 8 방향으로 연결된 선(기본값)\n",
    "3. cv2_LINE_AA : 부드러운 선 "
   ]
  },
  {
   "cell_type": "code",
   "execution_count": null,
   "id": "c0c1ee57",
   "metadata": {},
   "outputs": [],
   "source": [
    "import cv2\n",
    "import numpy as np\n",
    "\n",
    "img = np.zeros((480, 640, 4), dtype = uint8)\n",
    "\n",
    "COLOR = (0, 255, 255) #RGB : Yellow\n",
    "THICKNESS = 3 #두께 설정 \n",
    "\n",
    "cv2.line(img, (50,100), (400, 50), COLOR, THICKNESS, cv2.LINE_8)\n",
    "# 위의 COLOR, THICKNESS 를 받아옴 \n",
    "# 그릴 위치, 시작 점, 끝 점, 색깔, 두깨, 선 종류\n",
    "cv2.line(img, (50,100), (400, 50), COLOR, THICKNESS, cv2.LINE_4)\n",
    "cv2.line(img, (50,100), (400, 50), COLOR, THICKNESS, cv2.LINE_AA)\n",
    "\n",
    "\n",
    "cv2.imshow('img', img)\n",
    "cv2.waitKey(0)\n",
    "cv2.destroyAllWindows()"
   ]
  },
  {
   "cell_type": "markdown",
   "id": "c0333c6f",
   "metadata": {},
   "source": [
    "## 원"
   ]
  },
  {
   "cell_type": "code",
   "execution_count": null,
   "id": "4aaf24e5",
   "metadata": {},
   "outputs": [],
   "source": [
    "import cv2\n",
    "import numpy as np\n",
    "\n",
    "img = np.zeros((480, 640, 3), dtype == np.uint8)\n",
    "\n",
    "COLOR = (255, 255, 0) #RGB 설정\n",
    "RADIUS = 50 #반지름\n",
    "THICKNESS = 3\n",
    "\n",
    "cv2.circle(img,(255,100), RADIUS, COLOR, THICKNESS, cv2.LINE_AA)\n",
    "#속이 빈 원이 만들어짐\n",
    "#그릴 위치, 원의 중심점, 반지름, 색깔, 두께, 선 종류\n",
    "cv2.circle(img,(255,100), RADIUS, COLOR, cv2.FILLED, cv2.LINE_AA)\n",
    "\n",
    "\n",
    "cv2.imshow('img', img)\n",
    "cv2.waitKey(0)\n",
    "cv2.destroyAllWindows()"
   ]
  },
  {
   "cell_type": "markdown",
   "id": "d49cb62c",
   "metadata": {},
   "source": [
    "## 사각형"
   ]
  },
  {
   "cell_type": "code",
   "execution_count": null,
   "id": "14e551d7",
   "metadata": {},
   "outputs": [],
   "source": [
    "import cv2\n",
    "import numpy as np\n",
    "\n",
    "img = np.zeros((480, 640, 3), dtype == np.uint8)\n",
    "\n",
    "COLOR = (255, 255, 0) #RGB 설정\n",
    "THICKNESS = 3\n",
    "\n",
    "cv2.rectangle(img, (100,100), (200, 200), COLOR, THICKNESS) #속이 빈 사각형\n",
    "#그릴 위치, 왼쪽 위 좌표, 오른쪽아래 좌표, 색깔, 두께\n",
    "cv2.rectangle(img, (300,100), (400, 300), COLOR, cv2.FILLED)\n",
    "#속이 꽉 찬 사각형 \n",
    "\n",
    "\n",
    "cv2.imshow('img', img)\n",
    "cv2.waitKey(0)\n",
    "cv2.destroyAllWindows()"
   ]
  },
  {
   "cell_type": "markdown",
   "id": "173acca3",
   "metadata": {},
   "source": [
    "## 다각형"
   ]
  },
  {
   "cell_type": "code",
   "execution_count": 6,
   "id": "a9acba18",
   "metadata": {},
   "outputs": [],
   "source": [
    "import cv2\n",
    "import numpy as np\n",
    "\n",
    "img = np.zeros((480, 640, 3), dtype =np.uint8)\n",
    "\n",
    "COLOR = (255, 255, 0) #RGB 설정\n",
    "THICKNESS = 3\n",
    "\n",
    "pts1 = np.array([[100,100],[200,100],[100,200]])\n",
    "pts2 = np.array([[200, 100],[300, 100],[300, 200]])\n",
    "\n",
    "cv2.polylines(img, [pts1, pts2], True, COLOR, THICKNESS, cv2.LINE_AA)\n",
    "#그릴 위치, 그릴 좌표점, 닫힘 여부, 색깔, 두께, 선 종류\n",
    "\n",
    "pts3 = np.array([[[100, 300], [200, 300], [100, 400]],[[200, 300], [300,300], [300, 400]] ])\n",
    "cv2.fillPoly(img,pts3, COLOR, cv2.LINE_AA ) #꽉찬 다각형\n",
    "#그릴 위치, 그릴 좌표점, 색깔, 선 종류\n",
    "\n",
    "cv2.imshow('img', img)\n",
    "cv2.waitKey(0)\n",
    "cv2.destroyAllWindows()\n"
   ]
  },
  {
   "cell_type": "code",
   "execution_count": null,
   "id": "6e120a03",
   "metadata": {},
   "outputs": [],
   "source": []
  },
  {
   "cell_type": "code",
   "execution_count": null,
   "id": "54265ac9",
   "metadata": {},
   "outputs": [],
   "source": []
  },
  {
   "cell_type": "code",
   "execution_count": null,
   "id": "dbdf7baa",
   "metadata": {},
   "outputs": [],
   "source": []
  },
  {
   "cell_type": "code",
   "execution_count": null,
   "id": "5fc53b0d",
   "metadata": {},
   "outputs": [],
   "source": []
  },
  {
   "cell_type": "code",
   "execution_count": null,
   "id": "6da0b55d",
   "metadata": {},
   "outputs": [],
   "source": []
  }
 ],
 "metadata": {
  "kernelspec": {
   "display_name": "Python 3 (ipykernel)",
   "language": "python",
   "name": "python3"
  },
  "language_info": {
   "codemirror_mode": {
    "name": "ipython",
    "version": 3
   },
   "file_extension": ".py",
   "mimetype": "text/x-python",
   "name": "python",
   "nbconvert_exporter": "python",
   "pygments_lexer": "ipython3",
   "version": "3.9.13"
  }
 },
 "nbformat": 4,
 "nbformat_minor": 5
}
