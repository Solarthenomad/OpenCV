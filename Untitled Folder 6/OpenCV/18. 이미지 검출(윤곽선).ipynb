{
 "cells": [
  {
   "cell_type": "code",
   "execution_count": 1,
   "id": "cd0e48a8",
   "metadata": {},
   "outputs": [],
   "source": [
    "# 18. 이미지 검출(윤곽선)"
   ]
  },
  {
   "cell_type": "code",
   "execution_count": 2,
   "id": "bae7e1d9",
   "metadata": {},
   "outputs": [],
   "source": [
    "## 윤곽선(Contour) : 경계선을 연결한 선"
   ]
  },
  {
   "cell_type": "code",
   "execution_count": null,
   "id": "468fb0b0",
   "metadata": {},
   "outputs": [],
   "source": [
    "import cv2\n",
    "img = cv2.imread('card.png')\n",
    "target_img = img.copy() #사본 이미지\n",
    "\n",
    "gray = cv2.cvtColor(img, cv2.COLOR_BGR2GRAY)\n",
    "ret.otsu = cv2.threshold(gray, -1, 255, cv2.TRESH_BINARY | cv2.THRESH_OTSU)\n",
    "\n",
    "contours.hierachy = cv2.findContours(otsu, RETR_LIST, cv2.CHAIN_APPROX_NONE)\n",
    "# 윤곽선 정보, 구조\n",
    "#이미지, 윤곽선 찾는 모드, 윤곽선 찾을 때 사용하는 근사치 방법\n",
    "#윤곽선 검출하는 방법 \n",
    "\n",
    "COLOR = (0, 200,0) #녹색 \n",
    "cv2.drawContours(target_img, contours, -1, COLOR, 2)  \n",
    "#윤곽선 그리기 \n",
    "#대상 이미지, 윤곽선 정보, 인덱스[-1이면 전체], 색깔 ,두께\n",
    "\n",
    "\n",
    "cv2.imshow('img',img)\n",
    "cv2.imshow('gray',gray)\n",
    "cv2.imshow('otsu',otsu)\n",
    "cv2.imshow('contour',target_img)\n",
    "cv2.waitKey(0)\n",
    "cv2.destroyAllWindows()"
   ]
  },
  {
   "cell_type": "markdown",
   "id": "5372a759",
   "metadata": {},
   "source": [
    "### 윤곽선 찾기 모드\n",
    "1. cv2.RETR_EXTERNAL : 가장 외곽의 윤곽선만 찾음\n",
    "2. cv2.RETR_LIST : 모든 윤곽선 찾음(계층 정보 없음)\n",
    "3. cv2.RETR_TREE : 모든 윤곽선 찾음(계층 정보를 트리 구조로 생성)"
   ]
  },
  {
   "cell_type": "code",
   "execution_count": null,
   "id": "75d3bd89",
   "metadata": {},
   "outputs": [],
   "source": [
    "import cv2\n",
    "img = cv2.imread('card.png')\n",
    "target_img = img.copy() #사본 이미지\n",
    "\n",
    "gray = cv2.cvtColor(img, cv2.COLOR_BGR2GRAY)\n",
    "ret.otsu = cv2.threshold(gray, -1, 255, cv2.THRESH_BINARY | cv2.THRESH_OTSU)\n",
    "\n",
    "#contours.hierachy = cv2.findContours(otsu, RETR_LIST, cv2.CHAIN_APPROX_NONE)\n",
    "#contours.hierachy = cv2.findContours(otsu, RETR_EXTERNAL, cv2.CHAIN_APPROX_NONE)\n",
    "#contours.hierachy = cv2.findContours(otsu, RETR_TREE, cv2.CHAIN_APPROX_NONE)\n",
    "# 윤곽선 정보, 구조\n",
    "#이미지, 윤곽선 찾는 모드, 윤곽선 찾을 때 사용하는 근사치 방법\n",
    "#윤곽선 검출하는 방법\n",
    "print(hierachy)\n",
    "print(f'총 발견 갯수 : {len(contorus)}')\n",
    "\n",
    "COLOR = (0, 200,0) #녹색 \n",
    "cv2.drawContours(target_img, contours, -1, COLOR, 2)  \n",
    "#윤곽선 그리기 \n",
    "#대상 이미지, 윤곽선 정보, 인덱스[-1이면 전체], 색깔 ,두께\n",
    "\n",
    "\n",
    "cv2.imshow('img',img)\n",
    "cv2.imshow('gray',gray)\n",
    "cv2.imshow('otsu',otsu)\n",
    "cv2.imshow('contour',target_img)\n",
    "cv2.waitKey(0)\n",
    "cv2.destroyAllWindows()"
   ]
  },
  {
   "cell_type": "code",
   "execution_count": null,
   "id": "a3ddc30e",
   "metadata": {},
   "outputs": [],
   "source": [
    "## 경계 사각형\n",
    "윤곽선의 경계면을 둘러싸는 사각형 \n",
    "boundingRect()"
   ]
  },
  {
   "cell_type": "code",
   "execution_count": 3,
   "id": "9ac847ae",
   "metadata": {},
   "outputs": [
    {
     "ename": "AttributeError",
     "evalue": "'NoneType' object has no attribute 'copy'",
     "output_type": "error",
     "traceback": [
      "\u001b[1;31m---------------------------------------------------------------------------\u001b[0m",
      "\u001b[1;31mAttributeError\u001b[0m                            Traceback (most recent call last)",
      "\u001b[1;32m~\\AppData\\Local\\Temp\\ipykernel_19836\\3845990224.py\u001b[0m in \u001b[0;36m<module>\u001b[1;34m\u001b[0m\n\u001b[0;32m      1\u001b[0m \u001b[1;32mimport\u001b[0m \u001b[0mcv2\u001b[0m\u001b[1;33m\u001b[0m\u001b[1;33m\u001b[0m\u001b[0m\n\u001b[0;32m      2\u001b[0m \u001b[0mimg\u001b[0m \u001b[1;33m=\u001b[0m \u001b[0mcv2\u001b[0m\u001b[1;33m.\u001b[0m\u001b[0mimread\u001b[0m\u001b[1;33m(\u001b[0m\u001b[1;34m'card.png'\u001b[0m\u001b[1;33m)\u001b[0m\u001b[1;33m\u001b[0m\u001b[1;33m\u001b[0m\u001b[0m\n\u001b[1;32m----> 3\u001b[1;33m \u001b[0mtarget_img\u001b[0m \u001b[1;33m=\u001b[0m \u001b[0mimg\u001b[0m\u001b[1;33m.\u001b[0m\u001b[0mcopy\u001b[0m\u001b[1;33m(\u001b[0m\u001b[1;33m)\u001b[0m \u001b[1;31m#사본 이미지\u001b[0m\u001b[1;33m\u001b[0m\u001b[1;33m\u001b[0m\u001b[0m\n\u001b[0m\u001b[0;32m      4\u001b[0m \u001b[1;33m\u001b[0m\u001b[0m\n\u001b[0;32m      5\u001b[0m \u001b[0mgray\u001b[0m \u001b[1;33m=\u001b[0m \u001b[0mcv2\u001b[0m\u001b[1;33m.\u001b[0m\u001b[0mcvtColor\u001b[0m\u001b[1;33m(\u001b[0m\u001b[0mimg\u001b[0m\u001b[1;33m,\u001b[0m \u001b[0mcv2\u001b[0m\u001b[1;33m.\u001b[0m\u001b[0mCOLOR_BGR2GRAY\u001b[0m\u001b[1;33m)\u001b[0m\u001b[1;33m\u001b[0m\u001b[1;33m\u001b[0m\u001b[0m\n",
      "\u001b[1;31mAttributeError\u001b[0m: 'NoneType' object has no attribute 'copy'"
     ]
    }
   ],
   "source": [
    "import cv2\n",
    "img = cv2.imread('card.png')\n",
    "target_img = img.copy() #사본 이미지\n",
    "\n",
    "gray = cv2.cvtColor(img, cv2.COLOR_BGR2GRAY)\n",
    "ret.otsu = cv2.threshold(gray, -1, 255, cv2.TRESH_BINARY | cv2.THRESH_OTSU)\n",
    "\n",
    "contours.hierachy = cv2.findContours(otsu, RETR_LIST, cv2.CHAIN_APPROX_NONE)\n",
    "# 윤곽선 정보, 구조\n",
    "#이미지, 윤곽선 찾는 모드, 윤곽선 찾을 때 사용하는 근사치 방법\n",
    "#윤곽선 검출하는 방법 \n",
    "\n",
    "COLOR = (0, 200,0) #녹색 \n",
    "\n",
    "for cnt in contours :\n",
    "    x, y, width, height = cv2.boundingRect(cnt)\n",
    "    cv2.rectangle(target_img, (x,y), (x+width , y+height), COLOR, 2) #사각형 그림\n",
    "    \n",
    "    crop = img[y:y+height, x:x+width]\n",
    "    cv2.imshow(f'card_crop_{idx}',crop)\n",
    "    cv2.imwrite(f'card_crop_{idx}.png', crop) #파일 저장 \n",
    "\n",
    "\n",
    "cv2.imshow('img',img)\n",
    "cv2.imshow('contour',target_img)\n",
    "\n",
    "cv2.waitKey(0)\n",
    "cv2.destroyAllWindows()"
   ]
  },
  {
   "cell_type": "code",
   "execution_count": null,
   "id": "b5c3643c",
   "metadata": {},
   "outputs": [],
   "source": []
  },
  {
   "cell_type": "markdown",
   "id": "9edde738",
   "metadata": {},
   "source": [
    "## 면적 \n",
    "> contourArea()"
   ]
  },
  {
   "cell_type": "code",
   "execution_count": null,
   "id": "8382700c",
   "metadata": {},
   "outputs": [],
   "source": [
    "import cv2\n",
    "img = cv2.imread('card.png')\n",
    "target_img = img.copy() #사본 이미지\n",
    "\n",
    "gray = cv2.cvtColor(img, cv2.COLOR_BGR2GRAY)\n",
    "ret.otsu = cv2.threshold(gray, -1, 255, cv2.TRESH_BINARY | cv2.THRESH_OTSU)\n",
    "\n",
    "contours.hierachy = cv2.findContours(otsu, RETR_LIST, cv2.CHAIN_APPROX_NONE)\n",
    "# 윤곽선 정보, 구조\n",
    "#이미지, 윤곽선 찾는 모드, 윤곽선 찾을 때 사용하는 근사치 방법\n",
    "#윤곽선 검출하는 방법 \n",
    "\n",
    "COLOR = (0, 200,0) #녹색 \n",
    "\n",
    "for cnt in contours :\n",
    "    if cv2.contourArea(cnt) > 25000 : \n",
    "        x, y, width , height = cv2.boundingRect(cnt)\n",
    "        cv2.rectangle(target_img, (x,y), (x+width, y+height), COLOR, 2)\n",
    "        #사각형 그림\n",
    "\n",
    "\n",
    "cv2.imshow('img',img)\n",
    "cv2.imshow('gray',gray)\n",
    "cv2.imshow('otsu',otsu)\n",
    "cv2.imshow('contour',target_img)\n",
    "cv2.waitKey(0)\n",
    "cv2.destroyAllWindows()"
   ]
  },
  {
   "cell_type": "markdown",
   "id": "500e6fec",
   "metadata": {},
   "source": [
    "### 미니 프로젝트 : 개별 카드 추출해서 파일 저장 "
   ]
  },
  {
   "cell_type": "code",
   "execution_count": null,
   "id": "e6df8cd0",
   "metadata": {},
   "outputs": [],
   "source": [
    "import cv2\n",
    "img = cv2.imread('card.png')\n",
    "target_img = img.copy() #사본 이미지\n",
    "\n",
    "gray = cv2.cvtColor(img, cv2.COLOR_BGR2GRAY)\n",
    "ret.otsu = cv2.threshold(gray, -1, 255, cv2.TRESH_BINARY | cv2.THRESH_OTSU)\n",
    "\n",
    "contours.hierachy = cv2.findContours(otsu, RETR_LIST, cv2.CHAIN_APPROX_NONE)\n",
    "# 윤곽선 정보, 구조\n",
    "#이미지, 윤곽선 찾는 모드, 윤곽선 찾을 때 사용하는 근사치 방법\n",
    "#윤곽선 검출하는 방법 \n",
    "\n",
    "COLOR = (0, 200,0) #녹색 \n",
    "\n",
    "for cnt in contours :\n",
    "    if cv2.contourArea(cnt) > 25000 : \n",
    "        x, y, width , height = cv2.boundingRect(cnt)\n",
    "        cv2.rectangle(target_img, (x,y), (x+width, y+height), COLOR, 2)\n",
    "        #사각형 그림\n",
    "\n",
    "\n",
    "cv2.imshow('img',img)\n",
    "cv2.imshow('gray',gray)\n",
    "cv2.imshow('otsu',otsu)\n",
    "cv2.imshow('contour',target_img)\n",
    "cv2.waitKey(0)\n",
    "cv2.destroyAllWindows()"
   ]
  }
 ],
 "metadata": {
  "kernelspec": {
   "display_name": "Python 3 (ipykernel)",
   "language": "python",
   "name": "python3"
  },
  "language_info": {
   "codemirror_mode": {
    "name": "ipython",
    "version": 3
   },
   "file_extension": ".py",
   "mimetype": "text/x-python",
   "name": "python",
   "nbconvert_exporter": "python",
   "pygments_lexer": "ipython3",
   "version": "3.9.13"
  }
 },
 "nbformat": 4,
 "nbformat_minor": 5
}
