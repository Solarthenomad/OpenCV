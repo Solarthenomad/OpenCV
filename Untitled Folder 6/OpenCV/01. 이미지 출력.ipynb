{
 "cells": [
  {
   "cell_type": "markdown",
   "id": "ee9802f0",
   "metadata": {},
   "source": [
    "\n",
    "# 환경 설정\n",
    "\n",
    "\n",
    "Anaocnda Prompt  에서 다음 명령 수행\n",
    ">pip install opencv-python\n",
    "\n"
   ]
  },
  {
   "cell_type": "code",
   "execution_count": 4,
   "id": "7977397a",
   "metadata": {},
   "outputs": [
    {
     "data": {
      "text/plain": [
       "'4.6.0'"
      ]
     },
     "execution_count": 4,
     "metadata": {},
     "output_type": "execute_result"
    }
   ],
   "source": [
    "import cv2\n",
    "cv2.__version__"
   ]
  },
  {
   "cell_type": "markdown",
   "id": "643c07ca",
   "metadata": {},
   "source": [
    "# open CV(Computer Vision)\n",
    "\n",
    "다양한 영상 (이미지) / 동영상처리에 사용되는 오픈소스 라이브러리 "
   ]
  },
  {
   "cell_type": "markdown",
   "id": "89bfb40b",
   "metadata": {},
   "source": [
    "# 1. 이미지 출력"
   ]
  },
  {
   "cell_type": "code",
   "execution_count": 5,
   "id": "9fbc217b",
   "metadata": {},
   "outputs": [],
   "source": [
    "import cv2\n",
    "img = cv2.imread('img.jpg') #해당 경로의 파일을 읽어오기\n",
    "cv2.imshow('img', img) #'img'라는 이름의 창에 img를 표시하기 (출력)\n",
    "cv2.waitKey(0) #0이라는 지정된 시간 동안 사용자의 키 입력을 대기함\n",
    "print(key)   #내가 키보드 a를 누르면 97 출력, 키보드 b를 누르면 98출력(아스키 코드 출력되게 됨)\n",
    "#5000을 넣으면 5초동안 아무것도 하지 않아도 자동으로 이미지 파일이 닫히게 된다. \n",
    "cv2.destroyAllWindows() #모든 창닫기 "
   ]
  },
  {
   "cell_type": "markdown",
   "id": "6cbd46e7",
   "metadata": {},
   "source": [
    "## 읽기 옵션\n",
    "\n",
    "1. cv2.IMREAD_COLOR  :  컬러 이미지  투명 영역은 무시(기본값)\n",
    "2. cv2.IMREAD_GRAYSCALE   :  흑백 이미지\n",
    "3. cv2.IMREAD_UNCHANGED    :  투명 영역까지 포함시킴"
   ]
  },
  {
   "cell_type": "code",
   "execution_count": null,
   "id": "c9a835c8",
   "metadata": {},
   "outputs": [],
   "source": [
    "import cv2\n",
    "img_color = cv2.imread('img.jpg', cv2.IMREAD_COLOR)\n",
    "img_gray = cv2.imread('img.jpg', cv2.IMREAD_GRAYSCALE)\n",
    "img_unchanged = cv2.imread('img.jpg', cv2.IMREAD_UNCHANGED)\n",
    "\n",
    "\n",
    "cv2.imshow('img_color', img_color)\n",
    "cv2.imshow('img_gray', img_gray)\n",
    "cv2.imshow('img_unchanged', img_color)\n",
    "\n",
    "cv2.waitKey(0)\n",
    "cv2.destroyAllWindows()"
   ]
  },
  {
   "cell_type": "code",
   "execution_count": null,
   "id": "639323d0",
   "metadata": {},
   "outputs": [],
   "source": [
    "## Shape\n",
    "이미지의 height, width, channel 정보 출력하기"
   ]
  },
  {
   "cell_type": "code",
   "execution_count": null,
   "id": "b5a1deef",
   "metadata": {},
   "outputs": [],
   "source": [
    "import cv2\n",
    "img = cv2.imread('img.jpg')\n",
    "img.shape #세로 가로 channel\n",
    "#(390, 640, 3) 출력됨(위의 img_color, img_gray, img_unchanged 세개이기 때문에 channel이 세개임)"
   ]
  },
  {
   "cell_type": "code",
   "execution_count": null,
   "id": "dbec7c83",
   "metadata": {},
   "outputs": [],
   "source": []
  },
  {
   "cell_type": "code",
   "execution_count": null,
   "id": "454c6c6e",
   "metadata": {},
   "outputs": [],
   "source": []
  },
  {
   "cell_type": "code",
   "execution_count": null,
   "id": "d2d3e5d0",
   "metadata": {},
   "outputs": [],
   "source": []
  },
  {
   "cell_type": "code",
   "execution_count": null,
   "id": "ec924700",
   "metadata": {},
   "outputs": [],
   "source": []
  },
  {
   "cell_type": "code",
   "execution_count": null,
   "id": "ba56ec5b",
   "metadata": {},
   "outputs": [],
   "source": []
  },
  {
   "cell_type": "code",
   "execution_count": null,
   "id": "275fa24b",
   "metadata": {},
   "outputs": [],
   "source": []
  },
  {
   "cell_type": "code",
   "execution_count": null,
   "id": "25fad87e",
   "metadata": {},
   "outputs": [],
   "source": []
  },
  {
   "cell_type": "code",
   "execution_count": null,
   "id": "44a2865b",
   "metadata": {},
   "outputs": [],
   "source": []
  },
  {
   "cell_type": "code",
   "execution_count": null,
   "id": "7b429f1d",
   "metadata": {},
   "outputs": [],
   "source": []
  },
  {
   "cell_type": "code",
   "execution_count": null,
   "id": "0e133e37",
   "metadata": {},
   "outputs": [],
   "source": []
  },
  {
   "cell_type": "code",
   "execution_count": null,
   "id": "0dce9c48",
   "metadata": {},
   "outputs": [],
   "source": []
  }
 ],
 "metadata": {
  "kernelspec": {
   "display_name": "Python 3 (ipykernel)",
   "language": "python",
   "name": "python3"
  },
  "language_info": {
   "codemirror_mode": {
    "name": "ipython",
    "version": 3
   },
   "file_extension": ".py",
   "mimetype": "text/x-python",
   "name": "python",
   "nbconvert_exporter": "python",
   "pygments_lexer": "ipython3",
   "version": "3.9.13"
  }
 },
 "nbformat": 4,
 "nbformat_minor": 5
}
